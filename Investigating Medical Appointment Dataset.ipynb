{
 "cells": [
  {
   "cell_type": "markdown",
   "id": "070c09b8",
   "metadata": {},
   "source": [
    "# Investigate Medical Appointment Dataset\n",
    "<br><br>\n",
    "In this notebook we will try to analyze why would some patient not show up for his medical appointment and whether there are reasons for that using the data we have.<br>\n",
    "We will try to find some correlation between the different attributes we have and whether the patient shows up or not. The dataset we are going to use contains 110.527 medical appointments and its 14 associated variables ( **PatientId, AppointmentID, Gender, ScheduledDay, AppointmentDay, Age, Neighbourhood, Scholarship, Hypertension, Diabetes, Alcoholism, Handcap', SMS_received, No-show** )"
   ]
  },
  {
   "cell_type": "markdown",
   "id": "60f97234",
   "metadata": {},
   "source": [
    "## Questions to answer\n",
    "\n",
    "*   What is the percentage of no-show?\n",
    "*   What factors are important for us to know in order to predict if a patient will show up for their scheduled appointment?\n",
    "    *   Is the time gender related to whether a patient will show or not?\n",
    "    *   Does alcoholism affect probability of showing up?\n",
    "    *   Are patients with scholarship more likely to miss their appointment?\n",
    "    *   Are patients who don't recieve sms more likely to miss their appointment?\n",
    "    *   Is the time difference between the scheduling and appointment related to whether a patient will show?\n",
    "    *   Does age affect whether a patient will show up or not?\n",
    "    *   What is the percentage of patients missing their appointments for every neighbourhood\n"
   ]
  },
  {
   "cell_type": "markdown",
   "id": "0bca3ca6",
   "metadata": {},
   "source": [
    "## Setup"
   ]
  },
  {
   "cell_type": "code",
   "execution_count": 1,
   "id": "9881a048",
   "metadata": {},
   "outputs": [],
   "source": [
    "# Importing the required modules\n",
    "import pandas as pd \n",
    "import numpy as np\n",
    "import matplotlib.pyplot as plt\n",
    "import seaborn as sns\n",
    "# make sure the plots are inline with the notebook\n",
    "%matplotlib inline"
   ]
  },
  {
   "cell_type": "markdown",
   "id": "f50ca177",
   "metadata": {},
   "source": [
    "## Engaging with the Data"
   ]
  },
  {
   "cell_type": "markdown",
   "id": "ea08c6fa",
   "metadata": {},
   "source": [
    "###  Loading the dataset "
   ]
  },
  {
   "cell_type": "code",
   "execution_count": 2,
   "id": "b96b433b",
   "metadata": {},
   "outputs": [
    {
     "data": {
      "text/html": [
       "<div>\n",
       "<style scoped>\n",
       "    .dataframe tbody tr th:only-of-type {\n",
       "        vertical-align: middle;\n",
       "    }\n",
       "\n",
       "    .dataframe tbody tr th {\n",
       "        vertical-align: top;\n",
       "    }\n",
       "\n",
       "    .dataframe thead th {\n",
       "        text-align: right;\n",
       "    }\n",
       "</style>\n",
       "<table border=\"1\" class=\"dataframe\">\n",
       "  <thead>\n",
       "    <tr style=\"text-align: right;\">\n",
       "      <th></th>\n",
       "      <th>PatientId</th>\n",
       "      <th>AppointmentID</th>\n",
       "      <th>Gender</th>\n",
       "      <th>ScheduledDay</th>\n",
       "      <th>AppointmentDay</th>\n",
       "      <th>Age</th>\n",
       "      <th>Neighbourhood</th>\n",
       "      <th>Scholarship</th>\n",
       "      <th>Hipertension</th>\n",
       "      <th>Diabetes</th>\n",
       "      <th>Alcoholism</th>\n",
       "      <th>Handcap</th>\n",
       "      <th>SMS_received</th>\n",
       "      <th>No-show</th>\n",
       "    </tr>\n",
       "  </thead>\n",
       "  <tbody>\n",
       "    <tr>\n",
       "      <th>90859</th>\n",
       "      <td>2.868581e+13</td>\n",
       "      <td>5734378</td>\n",
       "      <td>F</td>\n",
       "      <td>2016-05-24T15:28:26Z</td>\n",
       "      <td>2016-06-01T00:00:00Z</td>\n",
       "      <td>93</td>\n",
       "      <td>CENTRO</td>\n",
       "      <td>0</td>\n",
       "      <td>1</td>\n",
       "      <td>0</td>\n",
       "      <td>0</td>\n",
       "      <td>0</td>\n",
       "      <td>1</td>\n",
       "      <td>Yes</td>\n",
       "    </tr>\n",
       "    <tr>\n",
       "      <th>68368</th>\n",
       "      <td>6.465493e+12</td>\n",
       "      <td>5695299</td>\n",
       "      <td>F</td>\n",
       "      <td>2016-05-13T09:56:05Z</td>\n",
       "      <td>2016-05-13T00:00:00Z</td>\n",
       "      <td>73</td>\n",
       "      <td>MARIA ORTIZ</td>\n",
       "      <td>0</td>\n",
       "      <td>0</td>\n",
       "      <td>0</td>\n",
       "      <td>0</td>\n",
       "      <td>0</td>\n",
       "      <td>0</td>\n",
       "      <td>No</td>\n",
       "    </tr>\n",
       "    <tr>\n",
       "      <th>79600</th>\n",
       "      <td>2.114888e+14</td>\n",
       "      <td>5601902</td>\n",
       "      <td>M</td>\n",
       "      <td>2016-04-19T13:55:03Z</td>\n",
       "      <td>2016-05-05T00:00:00Z</td>\n",
       "      <td>54</td>\n",
       "      <td>ILHA DO PRÍNCIPE</td>\n",
       "      <td>0</td>\n",
       "      <td>0</td>\n",
       "      <td>0</td>\n",
       "      <td>0</td>\n",
       "      <td>0</td>\n",
       "      <td>0</td>\n",
       "      <td>No</td>\n",
       "    </tr>\n",
       "    <tr>\n",
       "      <th>74372</th>\n",
       "      <td>4.372877e+12</td>\n",
       "      <td>5666659</td>\n",
       "      <td>F</td>\n",
       "      <td>2016-05-05T20:16:52Z</td>\n",
       "      <td>2016-05-09T00:00:00Z</td>\n",
       "      <td>42</td>\n",
       "      <td>JARDIM CAMBURI</td>\n",
       "      <td>0</td>\n",
       "      <td>0</td>\n",
       "      <td>0</td>\n",
       "      <td>0</td>\n",
       "      <td>0</td>\n",
       "      <td>0</td>\n",
       "      <td>No</td>\n",
       "    </tr>\n",
       "    <tr>\n",
       "      <th>18878</th>\n",
       "      <td>3.542395e+12</td>\n",
       "      <td>5659530</td>\n",
       "      <td>F</td>\n",
       "      <td>2016-05-04T14:09:12Z</td>\n",
       "      <td>2016-05-13T00:00:00Z</td>\n",
       "      <td>34</td>\n",
       "      <td>FORTE SÃO JOÃO</td>\n",
       "      <td>0</td>\n",
       "      <td>0</td>\n",
       "      <td>0</td>\n",
       "      <td>0</td>\n",
       "      <td>0</td>\n",
       "      <td>0</td>\n",
       "      <td>No</td>\n",
       "    </tr>\n",
       "  </tbody>\n",
       "</table>\n",
       "</div>"
      ],
      "text/plain": [
       "          PatientId  AppointmentID Gender          ScheduledDay  \\\n",
       "90859  2.868581e+13        5734378      F  2016-05-24T15:28:26Z   \n",
       "68368  6.465493e+12        5695299      F  2016-05-13T09:56:05Z   \n",
       "79600  2.114888e+14        5601902      M  2016-04-19T13:55:03Z   \n",
       "74372  4.372877e+12        5666659      F  2016-05-05T20:16:52Z   \n",
       "18878  3.542395e+12        5659530      F  2016-05-04T14:09:12Z   \n",
       "\n",
       "             AppointmentDay  Age     Neighbourhood  Scholarship  Hipertension  \\\n",
       "90859  2016-06-01T00:00:00Z   93            CENTRO            0             1   \n",
       "68368  2016-05-13T00:00:00Z   73       MARIA ORTIZ            0             0   \n",
       "79600  2016-05-05T00:00:00Z   54  ILHA DO PRÍNCIPE            0             0   \n",
       "74372  2016-05-09T00:00:00Z   42    JARDIM CAMBURI            0             0   \n",
       "18878  2016-05-13T00:00:00Z   34    FORTE SÃO JOÃO            0             0   \n",
       "\n",
       "       Diabetes  Alcoholism  Handcap  SMS_received No-show  \n",
       "90859         0           0        0             1     Yes  \n",
       "68368         0           0        0             0      No  \n",
       "79600         0           0        0             0      No  \n",
       "74372         0           0        0             0      No  \n",
       "18878         0           0        0             0      No  "
      ]
     },
     "execution_count": 2,
     "metadata": {},
     "output_type": "execute_result"
    }
   ],
   "source": [
    "df = pd.read_csv(\"no-showappointments.csv\")\n",
    "df.sample(5)"
   ]
  },
  {
   "cell_type": "markdown",
   "id": "f5741328",
   "metadata": {},
   "source": [
    "### Exploring the dataset"
   ]
  },
  {
   "cell_type": "code",
   "execution_count": 3,
   "id": "745e5d0f",
   "metadata": {},
   "outputs": [
    {
     "name": "stdout",
     "output_type": "stream",
     "text": [
      "shape : (110527, 14)\n"
     ]
    },
    {
     "data": {
      "text/plain": [
       "PatientId         float64\n",
       "AppointmentID       int64\n",
       "Gender             object\n",
       "ScheduledDay       object\n",
       "AppointmentDay     object\n",
       "Age                 int64\n",
       "Neighbourhood      object\n",
       "Scholarship         int64\n",
       "Hipertension        int64\n",
       "Diabetes            int64\n",
       "Alcoholism          int64\n",
       "Handcap             int64\n",
       "SMS_received        int64\n",
       "No-show            object\n",
       "dtype: object"
      ]
     },
     "execution_count": 3,
     "metadata": {},
     "output_type": "execute_result"
    }
   ],
   "source": [
    "print(\"shape :\",df.shape)\n",
    "df.dtypes"
   ]
  },
  {
   "cell_type": "markdown",
   "id": "91b381a6",
   "metadata": {},
   "source": [
    "There are **110527 rows** in the dataset along with **14 columns** <br>\n",
    "Except 2 columns (Neighbourhood and No-show) all other columns are of numeric type"
   ]
  },
  {
   "cell_type": "code",
   "execution_count": 4,
   "id": "333700fc",
   "metadata": {},
   "outputs": [
    {
     "data": {
      "text/html": [
       "<div>\n",
       "<style scoped>\n",
       "    .dataframe tbody tr th:only-of-type {\n",
       "        vertical-align: middle;\n",
       "    }\n",
       "\n",
       "    .dataframe tbody tr th {\n",
       "        vertical-align: top;\n",
       "    }\n",
       "\n",
       "    .dataframe thead th {\n",
       "        text-align: right;\n",
       "    }\n",
       "</style>\n",
       "<table border=\"1\" class=\"dataframe\">\n",
       "  <thead>\n",
       "    <tr style=\"text-align: right;\">\n",
       "      <th></th>\n",
       "      <th>PatientId</th>\n",
       "      <th>AppointmentID</th>\n",
       "      <th>Age</th>\n",
       "      <th>Scholarship</th>\n",
       "      <th>Hipertension</th>\n",
       "      <th>Diabetes</th>\n",
       "      <th>Alcoholism</th>\n",
       "      <th>Handcap</th>\n",
       "      <th>SMS_received</th>\n",
       "    </tr>\n",
       "  </thead>\n",
       "  <tbody>\n",
       "    <tr>\n",
       "      <th>count</th>\n",
       "      <td>1.105270e+05</td>\n",
       "      <td>1.105270e+05</td>\n",
       "      <td>110527.000000</td>\n",
       "      <td>110527.000000</td>\n",
       "      <td>110527.000000</td>\n",
       "      <td>110527.000000</td>\n",
       "      <td>110527.000000</td>\n",
       "      <td>110527.000000</td>\n",
       "      <td>110527.000000</td>\n",
       "    </tr>\n",
       "    <tr>\n",
       "      <th>mean</th>\n",
       "      <td>1.474963e+14</td>\n",
       "      <td>5.675305e+06</td>\n",
       "      <td>37.088874</td>\n",
       "      <td>0.098266</td>\n",
       "      <td>0.197246</td>\n",
       "      <td>0.071865</td>\n",
       "      <td>0.030400</td>\n",
       "      <td>0.022248</td>\n",
       "      <td>0.321026</td>\n",
       "    </tr>\n",
       "    <tr>\n",
       "      <th>std</th>\n",
       "      <td>2.560949e+14</td>\n",
       "      <td>7.129575e+04</td>\n",
       "      <td>23.110205</td>\n",
       "      <td>0.297675</td>\n",
       "      <td>0.397921</td>\n",
       "      <td>0.258265</td>\n",
       "      <td>0.171686</td>\n",
       "      <td>0.161543</td>\n",
       "      <td>0.466873</td>\n",
       "    </tr>\n",
       "    <tr>\n",
       "      <th>min</th>\n",
       "      <td>3.921784e+04</td>\n",
       "      <td>5.030230e+06</td>\n",
       "      <td>-1.000000</td>\n",
       "      <td>0.000000</td>\n",
       "      <td>0.000000</td>\n",
       "      <td>0.000000</td>\n",
       "      <td>0.000000</td>\n",
       "      <td>0.000000</td>\n",
       "      <td>0.000000</td>\n",
       "    </tr>\n",
       "    <tr>\n",
       "      <th>25%</th>\n",
       "      <td>4.172614e+12</td>\n",
       "      <td>5.640286e+06</td>\n",
       "      <td>18.000000</td>\n",
       "      <td>0.000000</td>\n",
       "      <td>0.000000</td>\n",
       "      <td>0.000000</td>\n",
       "      <td>0.000000</td>\n",
       "      <td>0.000000</td>\n",
       "      <td>0.000000</td>\n",
       "    </tr>\n",
       "    <tr>\n",
       "      <th>50%</th>\n",
       "      <td>3.173184e+13</td>\n",
       "      <td>5.680573e+06</td>\n",
       "      <td>37.000000</td>\n",
       "      <td>0.000000</td>\n",
       "      <td>0.000000</td>\n",
       "      <td>0.000000</td>\n",
       "      <td>0.000000</td>\n",
       "      <td>0.000000</td>\n",
       "      <td>0.000000</td>\n",
       "    </tr>\n",
       "    <tr>\n",
       "      <th>75%</th>\n",
       "      <td>9.439172e+13</td>\n",
       "      <td>5.725524e+06</td>\n",
       "      <td>55.000000</td>\n",
       "      <td>0.000000</td>\n",
       "      <td>0.000000</td>\n",
       "      <td>0.000000</td>\n",
       "      <td>0.000000</td>\n",
       "      <td>0.000000</td>\n",
       "      <td>1.000000</td>\n",
       "    </tr>\n",
       "    <tr>\n",
       "      <th>max</th>\n",
       "      <td>9.999816e+14</td>\n",
       "      <td>5.790484e+06</td>\n",
       "      <td>115.000000</td>\n",
       "      <td>1.000000</td>\n",
       "      <td>1.000000</td>\n",
       "      <td>1.000000</td>\n",
       "      <td>1.000000</td>\n",
       "      <td>4.000000</td>\n",
       "      <td>1.000000</td>\n",
       "    </tr>\n",
       "  </tbody>\n",
       "</table>\n",
       "</div>"
      ],
      "text/plain": [
       "          PatientId  AppointmentID            Age    Scholarship  \\\n",
       "count  1.105270e+05   1.105270e+05  110527.000000  110527.000000   \n",
       "mean   1.474963e+14   5.675305e+06      37.088874       0.098266   \n",
       "std    2.560949e+14   7.129575e+04      23.110205       0.297675   \n",
       "min    3.921784e+04   5.030230e+06      -1.000000       0.000000   \n",
       "25%    4.172614e+12   5.640286e+06      18.000000       0.000000   \n",
       "50%    3.173184e+13   5.680573e+06      37.000000       0.000000   \n",
       "75%    9.439172e+13   5.725524e+06      55.000000       0.000000   \n",
       "max    9.999816e+14   5.790484e+06     115.000000       1.000000   \n",
       "\n",
       "        Hipertension       Diabetes     Alcoholism        Handcap  \\\n",
       "count  110527.000000  110527.000000  110527.000000  110527.000000   \n",
       "mean        0.197246       0.071865       0.030400       0.022248   \n",
       "std         0.397921       0.258265       0.171686       0.161543   \n",
       "min         0.000000       0.000000       0.000000       0.000000   \n",
       "25%         0.000000       0.000000       0.000000       0.000000   \n",
       "50%         0.000000       0.000000       0.000000       0.000000   \n",
       "75%         0.000000       0.000000       0.000000       0.000000   \n",
       "max         1.000000       1.000000       1.000000       4.000000   \n",
       "\n",
       "        SMS_received  \n",
       "count  110527.000000  \n",
       "mean        0.321026  \n",
       "std         0.466873  \n",
       "min         0.000000  \n",
       "25%         0.000000  \n",
       "50%         0.000000  \n",
       "75%         1.000000  \n",
       "max         1.000000  "
      ]
     },
     "execution_count": 4,
     "metadata": {},
     "output_type": "execute_result"
    }
   ],
   "source": [
    "df.describe()\n"
   ]
  },
  {
   "cell_type": "markdown",
   "id": "0c28ac19",
   "metadata": {},
   "source": [
    "### Checking for null and duplicate data"
   ]
  },
  {
   "cell_type": "code",
   "execution_count": 5,
   "id": "3240e683",
   "metadata": {},
   "outputs": [
    {
     "data": {
      "text/plain": [
       "PatientId         False\n",
       "AppointmentID     False\n",
       "Gender            False\n",
       "ScheduledDay      False\n",
       "AppointmentDay    False\n",
       "Age               False\n",
       "Neighbourhood     False\n",
       "Scholarship       False\n",
       "Hipertension      False\n",
       "Diabetes          False\n",
       "Alcoholism        False\n",
       "Handcap           False\n",
       "SMS_received      False\n",
       "No-show           False\n",
       "dtype: bool"
      ]
     },
     "execution_count": 5,
     "metadata": {},
     "output_type": "execute_result"
    }
   ],
   "source": [
    "df.isna().any()"
   ]
  },
  {
   "cell_type": "code",
   "execution_count": 6,
   "id": "e0717424",
   "metadata": {},
   "outputs": [
    {
     "data": {
      "text/plain": [
       "False"
      ]
     },
     "execution_count": 6,
     "metadata": {},
     "output_type": "execute_result"
    }
   ],
   "source": [
    "df.duplicated().any()"
   ]
  },
  {
   "cell_type": "markdown",
   "id": "3c7f535a",
   "metadata": {},
   "source": [
    "#### Note from exploring the data\n",
    "\n",
    "There are some columns that need to have their datatype corrected like dates. Another great finding is that our data doesn't have any duplicated or missing values. Also, the column no-show can be a bit confusing and we can invert the values to make it more intuitive (shownup instead of no-show) and we can also turn it into integer instead of yes or no, thereby converting it to categorical datatype instead of object."
   ]
  },
  {
   "cell_type": "markdown",
   "id": "d18fcd09",
   "metadata": {},
   "source": [
    "### Data Cleaning\n",
    "\n",
    "*   Drop irrelevant columns\n",
    "*   Modify column names\n",
    "*   Correct data types\n",
    "*   Invert no-show column in to show with integer values\n",
    "*   Create a new column for days difference between scheduling an appointment\n"
   ]
  },
  {
   "cell_type": "code",
   "execution_count": 7,
   "id": "bdc48e59",
   "metadata": {},
   "outputs": [
    {
     "data": {
      "text/html": [
       "<div>\n",
       "<style scoped>\n",
       "    .dataframe tbody tr th:only-of-type {\n",
       "        vertical-align: middle;\n",
       "    }\n",
       "\n",
       "    .dataframe tbody tr th {\n",
       "        vertical-align: top;\n",
       "    }\n",
       "\n",
       "    .dataframe thead th {\n",
       "        text-align: right;\n",
       "    }\n",
       "</style>\n",
       "<table border=\"1\" class=\"dataframe\">\n",
       "  <thead>\n",
       "    <tr style=\"text-align: right;\">\n",
       "      <th></th>\n",
       "      <th>Gender</th>\n",
       "      <th>ScheduledDay</th>\n",
       "      <th>AppointmentDay</th>\n",
       "      <th>Age</th>\n",
       "      <th>Neighbourhood</th>\n",
       "      <th>Scholarship</th>\n",
       "      <th>Hipertension</th>\n",
       "      <th>Diabetes</th>\n",
       "      <th>Alcoholism</th>\n",
       "      <th>Handcap</th>\n",
       "      <th>SMS_received</th>\n",
       "      <th>No-show</th>\n",
       "    </tr>\n",
       "  </thead>\n",
       "  <tbody>\n",
       "    <tr>\n",
       "      <th>0</th>\n",
       "      <td>F</td>\n",
       "      <td>2016-04-29T18:38:08Z</td>\n",
       "      <td>2016-04-29T00:00:00Z</td>\n",
       "      <td>62</td>\n",
       "      <td>JARDIM DA PENHA</td>\n",
       "      <td>0</td>\n",
       "      <td>1</td>\n",
       "      <td>0</td>\n",
       "      <td>0</td>\n",
       "      <td>0</td>\n",
       "      <td>0</td>\n",
       "      <td>No</td>\n",
       "    </tr>\n",
       "    <tr>\n",
       "      <th>1</th>\n",
       "      <td>M</td>\n",
       "      <td>2016-04-29T16:08:27Z</td>\n",
       "      <td>2016-04-29T00:00:00Z</td>\n",
       "      <td>56</td>\n",
       "      <td>JARDIM DA PENHA</td>\n",
       "      <td>0</td>\n",
       "      <td>0</td>\n",
       "      <td>0</td>\n",
       "      <td>0</td>\n",
       "      <td>0</td>\n",
       "      <td>0</td>\n",
       "      <td>No</td>\n",
       "    </tr>\n",
       "    <tr>\n",
       "      <th>2</th>\n",
       "      <td>F</td>\n",
       "      <td>2016-04-29T16:19:04Z</td>\n",
       "      <td>2016-04-29T00:00:00Z</td>\n",
       "      <td>62</td>\n",
       "      <td>MATA DA PRAIA</td>\n",
       "      <td>0</td>\n",
       "      <td>0</td>\n",
       "      <td>0</td>\n",
       "      <td>0</td>\n",
       "      <td>0</td>\n",
       "      <td>0</td>\n",
       "      <td>No</td>\n",
       "    </tr>\n",
       "    <tr>\n",
       "      <th>3</th>\n",
       "      <td>F</td>\n",
       "      <td>2016-04-29T17:29:31Z</td>\n",
       "      <td>2016-04-29T00:00:00Z</td>\n",
       "      <td>8</td>\n",
       "      <td>PONTAL DE CAMBURI</td>\n",
       "      <td>0</td>\n",
       "      <td>0</td>\n",
       "      <td>0</td>\n",
       "      <td>0</td>\n",
       "      <td>0</td>\n",
       "      <td>0</td>\n",
       "      <td>No</td>\n",
       "    </tr>\n",
       "    <tr>\n",
       "      <th>4</th>\n",
       "      <td>F</td>\n",
       "      <td>2016-04-29T16:07:23Z</td>\n",
       "      <td>2016-04-29T00:00:00Z</td>\n",
       "      <td>56</td>\n",
       "      <td>JARDIM DA PENHA</td>\n",
       "      <td>0</td>\n",
       "      <td>1</td>\n",
       "      <td>1</td>\n",
       "      <td>0</td>\n",
       "      <td>0</td>\n",
       "      <td>0</td>\n",
       "      <td>No</td>\n",
       "    </tr>\n",
       "  </tbody>\n",
       "</table>\n",
       "</div>"
      ],
      "text/plain": [
       "  Gender          ScheduledDay        AppointmentDay  Age      Neighbourhood  \\\n",
       "0      F  2016-04-29T18:38:08Z  2016-04-29T00:00:00Z   62    JARDIM DA PENHA   \n",
       "1      M  2016-04-29T16:08:27Z  2016-04-29T00:00:00Z   56    JARDIM DA PENHA   \n",
       "2      F  2016-04-29T16:19:04Z  2016-04-29T00:00:00Z   62      MATA DA PRAIA   \n",
       "3      F  2016-04-29T17:29:31Z  2016-04-29T00:00:00Z    8  PONTAL DE CAMBURI   \n",
       "4      F  2016-04-29T16:07:23Z  2016-04-29T00:00:00Z   56    JARDIM DA PENHA   \n",
       "\n",
       "   Scholarship  Hipertension  Diabetes  Alcoholism  Handcap  SMS_received  \\\n",
       "0            0             1         0           0        0             0   \n",
       "1            0             0         0           0        0             0   \n",
       "2            0             0         0           0        0             0   \n",
       "3            0             0         0           0        0             0   \n",
       "4            0             1         1           0        0             0   \n",
       "\n",
       "  No-show  \n",
       "0      No  \n",
       "1      No  \n",
       "2      No  \n",
       "3      No  \n",
       "4      No  "
      ]
     },
     "execution_count": 7,
     "metadata": {},
     "output_type": "execute_result"
    }
   ],
   "source": [
    "# Drop irrelevant columns : PatientId and AppointmentID do not add much value to our analysis, and therefore can be dropped\n",
    "df.drop(['PatientId','AppointmentID'],axis=1,inplace=True)\n",
    "df.head()"
   ]
  },
  {
   "cell_type": "code",
   "execution_count": 8,
   "id": "27b363e2",
   "metadata": {},
   "outputs": [
    {
     "data": {
      "text/html": [
       "<div>\n",
       "<style scoped>\n",
       "    .dataframe tbody tr th:only-of-type {\n",
       "        vertical-align: middle;\n",
       "    }\n",
       "\n",
       "    .dataframe tbody tr th {\n",
       "        vertical-align: top;\n",
       "    }\n",
       "\n",
       "    .dataframe thead th {\n",
       "        text-align: right;\n",
       "    }\n",
       "</style>\n",
       "<table border=\"1\" class=\"dataframe\">\n",
       "  <thead>\n",
       "    <tr style=\"text-align: right;\">\n",
       "      <th></th>\n",
       "      <th>0</th>\n",
       "    </tr>\n",
       "  </thead>\n",
       "  <tbody>\n",
       "    <tr>\n",
       "      <th>0</th>\n",
       "      <td>gender</td>\n",
       "    </tr>\n",
       "    <tr>\n",
       "      <th>1</th>\n",
       "      <td>scheduledday</td>\n",
       "    </tr>\n",
       "    <tr>\n",
       "      <th>2</th>\n",
       "      <td>appointmentday</td>\n",
       "    </tr>\n",
       "    <tr>\n",
       "      <th>3</th>\n",
       "      <td>age</td>\n",
       "    </tr>\n",
       "    <tr>\n",
       "      <th>4</th>\n",
       "      <td>neighbourhood</td>\n",
       "    </tr>\n",
       "    <tr>\n",
       "      <th>5</th>\n",
       "      <td>scholarship</td>\n",
       "    </tr>\n",
       "    <tr>\n",
       "      <th>6</th>\n",
       "      <td>hipertension</td>\n",
       "    </tr>\n",
       "    <tr>\n",
       "      <th>7</th>\n",
       "      <td>diabetes</td>\n",
       "    </tr>\n",
       "    <tr>\n",
       "      <th>8</th>\n",
       "      <td>alcoholism</td>\n",
       "    </tr>\n",
       "    <tr>\n",
       "      <th>9</th>\n",
       "      <td>handcap</td>\n",
       "    </tr>\n",
       "    <tr>\n",
       "      <th>10</th>\n",
       "      <td>sms_received</td>\n",
       "    </tr>\n",
       "    <tr>\n",
       "      <th>11</th>\n",
       "      <td>no_show</td>\n",
       "    </tr>\n",
       "  </tbody>\n",
       "</table>\n",
       "</div>"
      ],
      "text/plain": [
       "                 0\n",
       "0           gender\n",
       "1     scheduledday\n",
       "2   appointmentday\n",
       "3              age\n",
       "4    neighbourhood\n",
       "5      scholarship\n",
       "6     hipertension\n",
       "7         diabetes\n",
       "8       alcoholism\n",
       "9          handcap\n",
       "10    sms_received\n",
       "11         no_show"
      ]
     },
     "execution_count": 8,
     "metadata": {},
     "output_type": "execute_result"
    }
   ],
   "source": [
    "# Modifying all column names : Change all cloumns name to lower case and replace all - with _\n",
    "df.columns=df.columns.str.lower().str.replace('-','_')\n",
    "pd.DataFrame(df.columns)"
   ]
  },
  {
   "cell_type": "code",
   "execution_count": 9,
   "id": "9b3783dd",
   "metadata": {},
   "outputs": [
    {
     "data": {
      "text/html": [
       "<div>\n",
       "<style scoped>\n",
       "    .dataframe tbody tr th:only-of-type {\n",
       "        vertical-align: middle;\n",
       "    }\n",
       "\n",
       "    .dataframe tbody tr th {\n",
       "        vertical-align: top;\n",
       "    }\n",
       "\n",
       "    .dataframe thead th {\n",
       "        text-align: right;\n",
       "    }\n",
       "</style>\n",
       "<table border=\"1\" class=\"dataframe\">\n",
       "  <thead>\n",
       "    <tr style=\"text-align: right;\">\n",
       "      <th></th>\n",
       "      <th>gender</th>\n",
       "      <th>scheduledday</th>\n",
       "      <th>appointmentday</th>\n",
       "      <th>age</th>\n",
       "      <th>neighbourhood</th>\n",
       "      <th>scholarship</th>\n",
       "      <th>hipertension</th>\n",
       "      <th>diabetes</th>\n",
       "      <th>alcoholism</th>\n",
       "      <th>handcap</th>\n",
       "      <th>sms_received</th>\n",
       "      <th>no_show</th>\n",
       "    </tr>\n",
       "  </thead>\n",
       "  <tbody>\n",
       "    <tr>\n",
       "      <th>0</th>\n",
       "      <td>F</td>\n",
       "      <td>2016-04-29 18:38:08+00:00</td>\n",
       "      <td>2016-04-29 00:00:00+00:00</td>\n",
       "      <td>62</td>\n",
       "      <td>JARDIM DA PENHA</td>\n",
       "      <td>0</td>\n",
       "      <td>1</td>\n",
       "      <td>0</td>\n",
       "      <td>0</td>\n",
       "      <td>0</td>\n",
       "      <td>0</td>\n",
       "      <td>No</td>\n",
       "    </tr>\n",
       "    <tr>\n",
       "      <th>1</th>\n",
       "      <td>M</td>\n",
       "      <td>2016-04-29 16:08:27+00:00</td>\n",
       "      <td>2016-04-29 00:00:00+00:00</td>\n",
       "      <td>56</td>\n",
       "      <td>JARDIM DA PENHA</td>\n",
       "      <td>0</td>\n",
       "      <td>0</td>\n",
       "      <td>0</td>\n",
       "      <td>0</td>\n",
       "      <td>0</td>\n",
       "      <td>0</td>\n",
       "      <td>No</td>\n",
       "    </tr>\n",
       "  </tbody>\n",
       "</table>\n",
       "</div>"
      ],
      "text/plain": [
       "  gender              scheduledday            appointmentday  age  \\\n",
       "0      F 2016-04-29 18:38:08+00:00 2016-04-29 00:00:00+00:00   62   \n",
       "1      M 2016-04-29 16:08:27+00:00 2016-04-29 00:00:00+00:00   56   \n",
       "\n",
       "     neighbourhood  scholarship  hipertension  diabetes  alcoholism  handcap  \\\n",
       "0  JARDIM DA PENHA            0             1         0           0        0   \n",
       "1  JARDIM DA PENHA            0             0         0           0        0   \n",
       "\n",
       "   sms_received no_show  \n",
       "0             0      No  \n",
       "1             0      No  "
      ]
     },
     "execution_count": 9,
     "metadata": {},
     "output_type": "execute_result"
    }
   ],
   "source": [
    "# Change datatype for columns with date :\n",
    "\n",
    "df['scheduledday']=pd.to_datetime(df['scheduledday'])\n",
    "df['appointmentday']=pd.to_datetime(df['appointmentday'])\n",
    "df.head(2)"
   ]
  },
  {
   "cell_type": "code",
   "execution_count": 10,
   "id": "9dd2eae9",
   "metadata": {},
   "outputs": [
    {
     "data": {
      "text/plain": [
       "array(['No', 'Yes'], dtype=object)"
      ]
     },
     "execution_count": 10,
     "metadata": {},
     "output_type": "execute_result"
    }
   ],
   "source": [
    "### Turn no_show column to shownup\n",
    "df.no_show.unique()"
   ]
  },
  {
   "cell_type": "code",
   "execution_count": 11,
   "id": "ac80d47b",
   "metadata": {},
   "outputs": [
    {
     "name": "stdout",
     "output_type": "stream",
     "text": [
      "[1 0]\n"
     ]
    },
    {
     "data": {
      "text/html": [
       "<div>\n",
       "<style scoped>\n",
       "    .dataframe tbody tr th:only-of-type {\n",
       "        vertical-align: middle;\n",
       "    }\n",
       "\n",
       "    .dataframe tbody tr th {\n",
       "        vertical-align: top;\n",
       "    }\n",
       "\n",
       "    .dataframe thead th {\n",
       "        text-align: right;\n",
       "    }\n",
       "</style>\n",
       "<table border=\"1\" class=\"dataframe\">\n",
       "  <thead>\n",
       "    <tr style=\"text-align: right;\">\n",
       "      <th></th>\n",
       "      <th>gender</th>\n",
       "      <th>scheduledday</th>\n",
       "      <th>appointmentday</th>\n",
       "      <th>age</th>\n",
       "      <th>neighbourhood</th>\n",
       "      <th>scholarship</th>\n",
       "      <th>hipertension</th>\n",
       "      <th>diabetes</th>\n",
       "      <th>alcoholism</th>\n",
       "      <th>handcap</th>\n",
       "      <th>sms_received</th>\n",
       "      <th>shownup</th>\n",
       "    </tr>\n",
       "  </thead>\n",
       "  <tbody>\n",
       "    <tr>\n",
       "      <th>0</th>\n",
       "      <td>F</td>\n",
       "      <td>2016-04-29 18:38:08+00:00</td>\n",
       "      <td>2016-04-29 00:00:00+00:00</td>\n",
       "      <td>62</td>\n",
       "      <td>JARDIM DA PENHA</td>\n",
       "      <td>0</td>\n",
       "      <td>1</td>\n",
       "      <td>0</td>\n",
       "      <td>0</td>\n",
       "      <td>0</td>\n",
       "      <td>0</td>\n",
       "      <td>1</td>\n",
       "    </tr>\n",
       "    <tr>\n",
       "      <th>1</th>\n",
       "      <td>M</td>\n",
       "      <td>2016-04-29 16:08:27+00:00</td>\n",
       "      <td>2016-04-29 00:00:00+00:00</td>\n",
       "      <td>56</td>\n",
       "      <td>JARDIM DA PENHA</td>\n",
       "      <td>0</td>\n",
       "      <td>0</td>\n",
       "      <td>0</td>\n",
       "      <td>0</td>\n",
       "      <td>0</td>\n",
       "      <td>0</td>\n",
       "      <td>1</td>\n",
       "    </tr>\n",
       "    <tr>\n",
       "      <th>2</th>\n",
       "      <td>F</td>\n",
       "      <td>2016-04-29 16:19:04+00:00</td>\n",
       "      <td>2016-04-29 00:00:00+00:00</td>\n",
       "      <td>62</td>\n",
       "      <td>MATA DA PRAIA</td>\n",
       "      <td>0</td>\n",
       "      <td>0</td>\n",
       "      <td>0</td>\n",
       "      <td>0</td>\n",
       "      <td>0</td>\n",
       "      <td>0</td>\n",
       "      <td>1</td>\n",
       "    </tr>\n",
       "    <tr>\n",
       "      <th>3</th>\n",
       "      <td>F</td>\n",
       "      <td>2016-04-29 17:29:31+00:00</td>\n",
       "      <td>2016-04-29 00:00:00+00:00</td>\n",
       "      <td>8</td>\n",
       "      <td>PONTAL DE CAMBURI</td>\n",
       "      <td>0</td>\n",
       "      <td>0</td>\n",
       "      <td>0</td>\n",
       "      <td>0</td>\n",
       "      <td>0</td>\n",
       "      <td>0</td>\n",
       "      <td>1</td>\n",
       "    </tr>\n",
       "    <tr>\n",
       "      <th>4</th>\n",
       "      <td>F</td>\n",
       "      <td>2016-04-29 16:07:23+00:00</td>\n",
       "      <td>2016-04-29 00:00:00+00:00</td>\n",
       "      <td>56</td>\n",
       "      <td>JARDIM DA PENHA</td>\n",
       "      <td>0</td>\n",
       "      <td>1</td>\n",
       "      <td>1</td>\n",
       "      <td>0</td>\n",
       "      <td>0</td>\n",
       "      <td>0</td>\n",
       "      <td>1</td>\n",
       "    </tr>\n",
       "  </tbody>\n",
       "</table>\n",
       "</div>"
      ],
      "text/plain": [
       "  gender              scheduledday            appointmentday  age  \\\n",
       "0      F 2016-04-29 18:38:08+00:00 2016-04-29 00:00:00+00:00   62   \n",
       "1      M 2016-04-29 16:08:27+00:00 2016-04-29 00:00:00+00:00   56   \n",
       "2      F 2016-04-29 16:19:04+00:00 2016-04-29 00:00:00+00:00   62   \n",
       "3      F 2016-04-29 17:29:31+00:00 2016-04-29 00:00:00+00:00    8   \n",
       "4      F 2016-04-29 16:07:23+00:00 2016-04-29 00:00:00+00:00   56   \n",
       "\n",
       "       neighbourhood  scholarship  hipertension  diabetes  alcoholism  \\\n",
       "0    JARDIM DA PENHA            0             1         0           0   \n",
       "1    JARDIM DA PENHA            0             0         0           0   \n",
       "2      MATA DA PRAIA            0             0         0           0   \n",
       "3  PONTAL DE CAMBURI            0             0         0           0   \n",
       "4    JARDIM DA PENHA            0             1         1           0   \n",
       "\n",
       "   handcap  sms_received  shownup  \n",
       "0        0             0        1  \n",
       "1        0             0        1  \n",
       "2        0             0        1  \n",
       "3        0             0        1  \n",
       "4        0             0        1  "
      ]
     },
     "execution_count": 11,
     "metadata": {},
     "output_type": "execute_result"
    }
   ],
   "source": [
    "df.no_show=df.no_show.map({'No':1,'Yes':0})\n",
    "df.rename(columns={'no_show':'shownup'},inplace=True)\n",
    "print(df.shownup.unique())\n",
    "df.head()"
   ]
  },
  {
   "cell_type": "code",
   "execution_count": 12,
   "id": "01d71720",
   "metadata": {},
   "outputs": [
    {
     "name": "stdout",
     "output_type": "stream",
     "text": [
      "int64\n"
     ]
    },
    {
     "data": {
      "text/plain": [
       "gender                         object\n",
       "scheduledday      datetime64[ns, UTC]\n",
       "appointmentday    datetime64[ns, UTC]\n",
       "day_diff                        int64\n",
       "age                             int64\n",
       "neighbourhood                  object\n",
       "scholarship                     int64\n",
       "hipertension                    int64\n",
       "diabetes                        int64\n",
       "alcoholism                      int64\n",
       "handcap                         int64\n",
       "sms_received                    int64\n",
       "shownup                         int64\n",
       "dtype: object"
      ]
     },
     "execution_count": 12,
     "metadata": {},
     "output_type": "execute_result"
    }
   ],
   "source": [
    "# Create a new column for days difference between scheduling and appointment\n",
    "day_diff=(df.appointmentday.dt.date-df.scheduledday.dt.date).dt.days \n",
    "df.insert(3,'day_diff',day_diff)\n",
    "print(df.day_diff.dtype)\n",
    "\n",
    "df.dtypes"
   ]
  },
  {
   "cell_type": "code",
   "execution_count": 13,
   "id": "3f4bccf2",
   "metadata": {
    "scrolled": true
   },
   "outputs": [
    {
     "data": {
      "text/html": [
       "<div>\n",
       "<style scoped>\n",
       "    .dataframe tbody tr th:only-of-type {\n",
       "        vertical-align: middle;\n",
       "    }\n",
       "\n",
       "    .dataframe tbody tr th {\n",
       "        vertical-align: top;\n",
       "    }\n",
       "\n",
       "    .dataframe thead th {\n",
       "        text-align: right;\n",
       "    }\n",
       "</style>\n",
       "<table border=\"1\" class=\"dataframe\">\n",
       "  <thead>\n",
       "    <tr style=\"text-align: right;\">\n",
       "      <th></th>\n",
       "      <th>gender</th>\n",
       "      <th>scheduledday</th>\n",
       "      <th>appointmentday</th>\n",
       "      <th>day_diff</th>\n",
       "      <th>age</th>\n",
       "      <th>neighbourhood</th>\n",
       "      <th>scholarship</th>\n",
       "      <th>hipertension</th>\n",
       "      <th>diabetes</th>\n",
       "      <th>alcoholism</th>\n",
       "      <th>handcap</th>\n",
       "      <th>sms_received</th>\n",
       "      <th>shownup</th>\n",
       "    </tr>\n",
       "  </thead>\n",
       "  <tbody>\n",
       "    <tr>\n",
       "      <th>0</th>\n",
       "      <td>F</td>\n",
       "      <td>2016-04-29 18:38:08+00:00</td>\n",
       "      <td>2016-04-29 00:00:00+00:00</td>\n",
       "      <td>0</td>\n",
       "      <td>62</td>\n",
       "      <td>JARDIM DA PENHA</td>\n",
       "      <td>0</td>\n",
       "      <td>1</td>\n",
       "      <td>0</td>\n",
       "      <td>0</td>\n",
       "      <td>0</td>\n",
       "      <td>0</td>\n",
       "      <td>1</td>\n",
       "    </tr>\n",
       "    <tr>\n",
       "      <th>1</th>\n",
       "      <td>M</td>\n",
       "      <td>2016-04-29 16:08:27+00:00</td>\n",
       "      <td>2016-04-29 00:00:00+00:00</td>\n",
       "      <td>0</td>\n",
       "      <td>56</td>\n",
       "      <td>JARDIM DA PENHA</td>\n",
       "      <td>0</td>\n",
       "      <td>0</td>\n",
       "      <td>0</td>\n",
       "      <td>0</td>\n",
       "      <td>0</td>\n",
       "      <td>0</td>\n",
       "      <td>1</td>\n",
       "    </tr>\n",
       "    <tr>\n",
       "      <th>2</th>\n",
       "      <td>F</td>\n",
       "      <td>2016-04-29 16:19:04+00:00</td>\n",
       "      <td>2016-04-29 00:00:00+00:00</td>\n",
       "      <td>0</td>\n",
       "      <td>62</td>\n",
       "      <td>MATA DA PRAIA</td>\n",
       "      <td>0</td>\n",
       "      <td>0</td>\n",
       "      <td>0</td>\n",
       "      <td>0</td>\n",
       "      <td>0</td>\n",
       "      <td>0</td>\n",
       "      <td>1</td>\n",
       "    </tr>\n",
       "    <tr>\n",
       "      <th>3</th>\n",
       "      <td>F</td>\n",
       "      <td>2016-04-29 17:29:31+00:00</td>\n",
       "      <td>2016-04-29 00:00:00+00:00</td>\n",
       "      <td>0</td>\n",
       "      <td>8</td>\n",
       "      <td>PONTAL DE CAMBURI</td>\n",
       "      <td>0</td>\n",
       "      <td>0</td>\n",
       "      <td>0</td>\n",
       "      <td>0</td>\n",
       "      <td>0</td>\n",
       "      <td>0</td>\n",
       "      <td>1</td>\n",
       "    </tr>\n",
       "    <tr>\n",
       "      <th>4</th>\n",
       "      <td>F</td>\n",
       "      <td>2016-04-29 16:07:23+00:00</td>\n",
       "      <td>2016-04-29 00:00:00+00:00</td>\n",
       "      <td>0</td>\n",
       "      <td>56</td>\n",
       "      <td>JARDIM DA PENHA</td>\n",
       "      <td>0</td>\n",
       "      <td>1</td>\n",
       "      <td>1</td>\n",
       "      <td>0</td>\n",
       "      <td>0</td>\n",
       "      <td>0</td>\n",
       "      <td>1</td>\n",
       "    </tr>\n",
       "  </tbody>\n",
       "</table>\n",
       "</div>"
      ],
      "text/plain": [
       "  gender              scheduledday            appointmentday  day_diff  age  \\\n",
       "0      F 2016-04-29 18:38:08+00:00 2016-04-29 00:00:00+00:00         0   62   \n",
       "1      M 2016-04-29 16:08:27+00:00 2016-04-29 00:00:00+00:00         0   56   \n",
       "2      F 2016-04-29 16:19:04+00:00 2016-04-29 00:00:00+00:00         0   62   \n",
       "3      F 2016-04-29 17:29:31+00:00 2016-04-29 00:00:00+00:00         0    8   \n",
       "4      F 2016-04-29 16:07:23+00:00 2016-04-29 00:00:00+00:00         0   56   \n",
       "\n",
       "       neighbourhood  scholarship  hipertension  diabetes  alcoholism  \\\n",
       "0    JARDIM DA PENHA            0             1         0           0   \n",
       "1    JARDIM DA PENHA            0             0         0           0   \n",
       "2      MATA DA PRAIA            0             0         0           0   \n",
       "3  PONTAL DE CAMBURI            0             0         0           0   \n",
       "4    JARDIM DA PENHA            0             1         1           0   \n",
       "\n",
       "   handcap  sms_received  shownup  \n",
       "0        0             0        1  \n",
       "1        0             0        1  \n",
       "2        0             0        1  \n",
       "3        0             0        1  \n",
       "4        0             0        1  "
      ]
     },
     "execution_count": 13,
     "metadata": {},
     "output_type": "execute_result"
    }
   ],
   "source": [
    "df.head(5)"
   ]
  },
  {
   "cell_type": "markdown",
   "id": "13f93b75",
   "metadata": {},
   "source": [
    "### Exploratory Data Analysis"
   ]
  },
  {
   "cell_type": "markdown",
   "id": "0f37f165",
   "metadata": {},
   "source": [
    "#### checking the correlation between columns data"
   ]
  },
  {
   "cell_type": "code",
   "execution_count": 14,
   "id": "0445a66d",
   "metadata": {},
   "outputs": [
    {
     "data": {
      "text/html": [
       "<div>\n",
       "<style scoped>\n",
       "    .dataframe tbody tr th:only-of-type {\n",
       "        vertical-align: middle;\n",
       "    }\n",
       "\n",
       "    .dataframe tbody tr th {\n",
       "        vertical-align: top;\n",
       "    }\n",
       "\n",
       "    .dataframe thead th {\n",
       "        text-align: right;\n",
       "    }\n",
       "</style>\n",
       "<table border=\"1\" class=\"dataframe\">\n",
       "  <thead>\n",
       "    <tr style=\"text-align: right;\">\n",
       "      <th></th>\n",
       "      <th>day_diff</th>\n",
       "      <th>age</th>\n",
       "      <th>scholarship</th>\n",
       "      <th>hipertension</th>\n",
       "      <th>diabetes</th>\n",
       "      <th>alcoholism</th>\n",
       "      <th>handcap</th>\n",
       "      <th>sms_received</th>\n",
       "      <th>shownup</th>\n",
       "    </tr>\n",
       "  </thead>\n",
       "  <tbody>\n",
       "    <tr>\n",
       "      <th>day_diff</th>\n",
       "      <td>1.000000</td>\n",
       "      <td>0.034820</td>\n",
       "      <td>-0.030421</td>\n",
       "      <td>-0.017215</td>\n",
       "      <td>-0.027188</td>\n",
       "      <td>-0.038519</td>\n",
       "      <td>-0.019843</td>\n",
       "      <td>0.398145</td>\n",
       "      <td>-0.186231</td>\n",
       "    </tr>\n",
       "    <tr>\n",
       "      <th>age</th>\n",
       "      <td>0.034820</td>\n",
       "      <td>1.000000</td>\n",
       "      <td>-0.092457</td>\n",
       "      <td>0.504586</td>\n",
       "      <td>0.292391</td>\n",
       "      <td>0.095811</td>\n",
       "      <td>0.078033</td>\n",
       "      <td>0.012643</td>\n",
       "      <td>0.060319</td>\n",
       "    </tr>\n",
       "    <tr>\n",
       "      <th>scholarship</th>\n",
       "      <td>-0.030421</td>\n",
       "      <td>-0.092457</td>\n",
       "      <td>1.000000</td>\n",
       "      <td>-0.019729</td>\n",
       "      <td>-0.024894</td>\n",
       "      <td>0.035022</td>\n",
       "      <td>-0.008586</td>\n",
       "      <td>0.001194</td>\n",
       "      <td>-0.029135</td>\n",
       "    </tr>\n",
       "    <tr>\n",
       "      <th>hipertension</th>\n",
       "      <td>-0.017215</td>\n",
       "      <td>0.504586</td>\n",
       "      <td>-0.019729</td>\n",
       "      <td>1.000000</td>\n",
       "      <td>0.433086</td>\n",
       "      <td>0.087971</td>\n",
       "      <td>0.080083</td>\n",
       "      <td>-0.006267</td>\n",
       "      <td>0.035701</td>\n",
       "    </tr>\n",
       "    <tr>\n",
       "      <th>diabetes</th>\n",
       "      <td>-0.027188</td>\n",
       "      <td>0.292391</td>\n",
       "      <td>-0.024894</td>\n",
       "      <td>0.433086</td>\n",
       "      <td>1.000000</td>\n",
       "      <td>0.018474</td>\n",
       "      <td>0.057530</td>\n",
       "      <td>-0.014550</td>\n",
       "      <td>0.015180</td>\n",
       "    </tr>\n",
       "    <tr>\n",
       "      <th>alcoholism</th>\n",
       "      <td>-0.038519</td>\n",
       "      <td>0.095811</td>\n",
       "      <td>0.035022</td>\n",
       "      <td>0.087971</td>\n",
       "      <td>0.018474</td>\n",
       "      <td>1.000000</td>\n",
       "      <td>0.004648</td>\n",
       "      <td>-0.026147</td>\n",
       "      <td>0.000196</td>\n",
       "    </tr>\n",
       "    <tr>\n",
       "      <th>handcap</th>\n",
       "      <td>-0.019843</td>\n",
       "      <td>0.078033</td>\n",
       "      <td>-0.008586</td>\n",
       "      <td>0.080083</td>\n",
       "      <td>0.057530</td>\n",
       "      <td>0.004648</td>\n",
       "      <td>1.000000</td>\n",
       "      <td>-0.024161</td>\n",
       "      <td>0.006076</td>\n",
       "    </tr>\n",
       "    <tr>\n",
       "      <th>sms_received</th>\n",
       "      <td>0.398145</td>\n",
       "      <td>0.012643</td>\n",
       "      <td>0.001194</td>\n",
       "      <td>-0.006267</td>\n",
       "      <td>-0.014550</td>\n",
       "      <td>-0.026147</td>\n",
       "      <td>-0.024161</td>\n",
       "      <td>1.000000</td>\n",
       "      <td>-0.126431</td>\n",
       "    </tr>\n",
       "    <tr>\n",
       "      <th>shownup</th>\n",
       "      <td>-0.186231</td>\n",
       "      <td>0.060319</td>\n",
       "      <td>-0.029135</td>\n",
       "      <td>0.035701</td>\n",
       "      <td>0.015180</td>\n",
       "      <td>0.000196</td>\n",
       "      <td>0.006076</td>\n",
       "      <td>-0.126431</td>\n",
       "      <td>1.000000</td>\n",
       "    </tr>\n",
       "  </tbody>\n",
       "</table>\n",
       "</div>"
      ],
      "text/plain": [
       "              day_diff       age  scholarship  hipertension  diabetes  \\\n",
       "day_diff      1.000000  0.034820    -0.030421     -0.017215 -0.027188   \n",
       "age           0.034820  1.000000    -0.092457      0.504586  0.292391   \n",
       "scholarship  -0.030421 -0.092457     1.000000     -0.019729 -0.024894   \n",
       "hipertension -0.017215  0.504586    -0.019729      1.000000  0.433086   \n",
       "diabetes     -0.027188  0.292391    -0.024894      0.433086  1.000000   \n",
       "alcoholism   -0.038519  0.095811     0.035022      0.087971  0.018474   \n",
       "handcap      -0.019843  0.078033    -0.008586      0.080083  0.057530   \n",
       "sms_received  0.398145  0.012643     0.001194     -0.006267 -0.014550   \n",
       "shownup      -0.186231  0.060319    -0.029135      0.035701  0.015180   \n",
       "\n",
       "              alcoholism   handcap  sms_received   shownup  \n",
       "day_diff       -0.038519 -0.019843      0.398145 -0.186231  \n",
       "age             0.095811  0.078033      0.012643  0.060319  \n",
       "scholarship     0.035022 -0.008586      0.001194 -0.029135  \n",
       "hipertension    0.087971  0.080083     -0.006267  0.035701  \n",
       "diabetes        0.018474  0.057530     -0.014550  0.015180  \n",
       "alcoholism      1.000000  0.004648     -0.026147  0.000196  \n",
       "handcap         0.004648  1.000000     -0.024161  0.006076  \n",
       "sms_received   -0.026147 -0.024161      1.000000 -0.126431  \n",
       "shownup         0.000196  0.006076     -0.126431  1.000000  "
      ]
     },
     "execution_count": 14,
     "metadata": {},
     "output_type": "execute_result"
    }
   ],
   "source": [
    "df.corr()"
   ]
  },
  {
   "cell_type": "code",
   "execution_count": 15,
   "id": "e9c4c15e",
   "metadata": {},
   "outputs": [
    {
     "data": {
      "image/png": "[encoded data removed]",
      "text/plain": [
       "<Figure size 864x864 with 2 Axes>"
      ]
     },
     "metadata": {
      "needs_background": "light"
     },
     "output_type": "display_data"
    }
   ],
   "source": [
    "plt.figure(figsize = (12,12))\n",
    "sns.heatmap(df.corr(), vmin = -1, annot = True)\n",
    "plt.savefig(\"plots/Correlation Heatmap\", dpi = 200)\n",
    "plt.show()"
   ]
  },
  {
   "cell_type": "markdown",
   "id": "76247d4f",
   "metadata": {},
   "source": [
    "There seems to not much of a significant corrrelation between the columns of the dataset"
   ]
  },
  {
   "cell_type": "markdown",
   "id": "29258bfd",
   "metadata": {},
   "source": [
    "#### Checking the distribution of the data"
   ]
  },
  {
   "cell_type": "code",
   "execution_count": 16,
   "id": "c0eae94f",
   "metadata": {},
   "outputs": [
    {
     "data": {
      "image/png": "[encoded data removed]",
      "text/plain": [
       "<Figure size 792x864 with 12 Axes>"
      ]
     },
     "metadata": {
      "needs_background": "light"
     },
     "output_type": "display_data"
    }
   ],
   "source": [
    "df.hist(figsize=(11,12), alpha = 1);"
   ]
  },
  {
   "cell_type": "code",
   "execution_count": 17,
   "id": "5c997db7",
   "metadata": {},
   "outputs": [],
   "source": [
    "# Writing a general function to get the ratio of show in different categories :\n",
    "def plot_rat(x):\n",
    "    df.groupby(x)[['shownup']].mean().plot(kind='bar',\n",
    "                                    edgecolor='black', legend = False, \n",
    "                                    figsize=(8,6)).set_ylabel('Ratio of people shownup');\n",
    "    display(df.groupby(x)[['shownup']].mean())"
   ]
  },
  {
   "cell_type": "markdown",
   "id": "fcd98323",
   "metadata": {},
   "source": [
    "### Percentage of people who did not show up "
   ]
  },
  {
   "cell_type": "code",
   "execution_count": 18,
   "id": "57773d6c",
   "metadata": {},
   "outputs": [
    {
     "data": {
      "text/plain": [
       "20.193255946510803"
      ]
     },
     "execution_count": 18,
     "metadata": {},
     "output_type": "execute_result"
    }
   ],
   "source": [
    "(1 - df.shownup.mean())* 100"
   ]
  },
  {
   "cell_type": "code",
   "execution_count": 19,
   "id": "930013fc",
   "metadata": {},
   "outputs": [
    {
     "data": {
      "image/png": "[encoded data removed]",
      "text/plain": [
       "<Figure size 432x288 with 1 Axes>"
      ]
     },
     "metadata": {
      "needs_background": "light"
     },
     "output_type": "display_data"
    },
    {
     "name": "stdout",
     "output_type": "stream",
     "text": [
      "20.19  % of people have missed the appointments\n",
      "79.81 % of people have attended to their appointments\n"
     ]
    }
   ],
   "source": [
    "show = len(df[df['shownup']== 1])/ len(df['shownup'])\n",
    "noshow = len(df[df['shownup']== 0])/ len(df['shownup'])\n",
    "plt.bar(['shown up', 'missed'],[show*100 , noshow* 100] ,color =['c', 'indigo'], edgecolor = 'black')\n",
    "plt.title(\"Percentage of people missing their appointments\")\n",
    "plt.ylabel('percentage')\n",
    "plt.savefig(\"plots/missed_percent\", dpi = 200)\n",
    "\n",
    "plt.show()\n",
    "print(\"%.2f\"%(noshow*100) ,\" % of people have missed the appointments\")\n",
    "print(\"%.2f\"%(100-(noshow*100)),\"% of people have attended to their appointments\")"
   ]
  },
  {
   "cell_type": "markdown",
   "id": "8c97ee2c",
   "metadata": {},
   "source": [
    "#### Note\n",
    "**20.19 %** of people have missed the appointments<br>\n",
    "**79.81 %** of people have attended to their appointments"
   ]
  },
  {
   "cell_type": "code",
   "execution_count": 20,
   "id": "1347d68d",
   "metadata": {},
   "outputs": [
    {
     "data": {
      "text/plain": [
       "0         True\n",
       "1         True\n",
       "2         True\n",
       "3         True\n",
       "4         True\n",
       "          ... \n",
       "110522    True\n",
       "110523    True\n",
       "110524    True\n",
       "110525    True\n",
       "110526    True\n",
       "Name: shownup, Length: 110527, dtype: bool"
      ]
     },
     "execution_count": 20,
     "metadata": {},
     "output_type": "execute_result"
    }
   ],
   "source": [
    "df.shownup == 1"
   ]
  },
  {
   "cell_type": "markdown",
   "id": "d1e5e8d7",
   "metadata": {},
   "source": [
    "#### creating filters for the shownup columns"
   ]
  },
  {
   "cell_type": "code",
   "execution_count": 21,
   "id": "49359b24",
   "metadata": {},
   "outputs": [],
   "source": [
    "shownup = (df.shownup == 1) \n",
    "missed = (df.shownup == 0)\n",
    "total_miss = len(df[missed])\n",
    "total = len(df)"
   ]
  },
  {
   "cell_type": "markdown",
   "id": "146e87df",
   "metadata": {},
   "source": [
    "### Q1) Is there a relation between gender and missed appointments"
   ]
  },
  {
   "cell_type": "code",
   "execution_count": 22,
   "id": "82dcaaf9",
   "metadata": {},
   "outputs": [
    {
     "data": {
      "image/png": "[encoded data removed]",
      "text/plain": [
       "<Figure size 432x288 with 1 Axes>"
      ]
     },
     "metadata": {},
     "output_type": "display_data"
    },
    {
     "data": {
      "text/html": [
       "<div>\n",
       "<style scoped>\n",
       "    .dataframe tbody tr th:only-of-type {\n",
       "        vertical-align: middle;\n",
       "    }\n",
       "\n",
       "    .dataframe tbody tr th {\n",
       "        vertical-align: top;\n",
       "    }\n",
       "\n",
       "    .dataframe thead th {\n",
       "        text-align: right;\n",
       "    }\n",
       "</style>\n",
       "<table border=\"1\" class=\"dataframe\">\n",
       "  <thead>\n",
       "    <tr style=\"text-align: right;\">\n",
       "      <th></th>\n",
       "      <th>gender</th>\n",
       "    </tr>\n",
       "  </thead>\n",
       "  <tbody>\n",
       "    <tr>\n",
       "      <th>M</th>\n",
       "      <td>7725</td>\n",
       "    </tr>\n",
       "    <tr>\n",
       "      <th>F</th>\n",
       "      <td>14594</td>\n",
       "    </tr>\n",
       "  </tbody>\n",
       "</table>\n",
       "</div>"
      ],
      "text/plain": [
       "   gender\n",
       "M    7725\n",
       "F   14594"
      ]
     },
     "metadata": {},
     "output_type": "display_data"
    }
   ],
   "source": [
    "missed_gender = df[missed]['gender'].value_counts()\n",
    "plt.pie(missed_gender , labels = missed_gender.index.values, \n",
    "                    autopct = '%.2f %%', explode = [0.05, 0])\n",
    "plt.title('Missed appointments categorized by gender')\n",
    "plt.savefig(\"plots/shownup_gender_pie\", dpi = 200)\n",
    "plt.show()\n",
    "display(pd.DataFrame(missed_gender.sort_values()))"
   ]
  },
  {
   "cell_type": "code",
   "execution_count": 23,
   "id": "12fbde5f",
   "metadata": {},
   "outputs": [
    {
     "data": {
      "image/png": "[encoded data removed]",
      "text/plain": [
       "<Figure size 432x288 with 1 Axes>"
      ]
     },
     "metadata": {
      "needs_background": "light"
     },
     "output_type": "display_data"
    }
   ],
   "source": [
    "df.groupby(['gender','shownup']).size().unstack('gender').plot(kind='bar', rot = 0,  \n",
    "                            ylabel ='number of patients', color = ['violet', 'purple'])\n",
    "plt.title(\"Gender Distribution by attendance\")\n",
    "plt.xlabel(\"Attendance\")\n",
    "plt.xticks(range(0,2),['Missed','Shown up'])\n",
    "plt.savefig('plots/shownup_gender_bar', dpi = 200)\n",
    "plt.show()"
   ]
  },
  {
   "cell_type": "markdown",
   "id": "2f9a9f20",
   "metadata": {},
   "source": [
    "It seems that the number missing appointments in case of female is almost twice that in case of males. <br>\n",
    "However, it is necessary to find out the number of datapoints per gender in the dataset."
   ]
  },
  {
   "cell_type": "code",
   "execution_count": 24,
   "id": "8af616b4",
   "metadata": {},
   "outputs": [
    {
     "data": {
      "image/png": "[encoded data removed]",
      "text/plain": [
       "<Figure size 432x288 with 1 Axes>"
      ]
     },
     "metadata": {},
     "output_type": "display_data"
    },
    {
     "data": {
      "text/html": [
       "<div>\n",
       "<style scoped>\n",
       "    .dataframe tbody tr th:only-of-type {\n",
       "        vertical-align: middle;\n",
       "    }\n",
       "\n",
       "    .dataframe tbody tr th {\n",
       "        vertical-align: top;\n",
       "    }\n",
       "\n",
       "    .dataframe thead th {\n",
       "        text-align: right;\n",
       "    }\n",
       "</style>\n",
       "<table border=\"1\" class=\"dataframe\">\n",
       "  <thead>\n",
       "    <tr style=\"text-align: right;\">\n",
       "      <th></th>\n",
       "      <th>gender</th>\n",
       "    </tr>\n",
       "  </thead>\n",
       "  <tbody>\n",
       "    <tr>\n",
       "      <th>F</th>\n",
       "      <td>71840</td>\n",
       "    </tr>\n",
       "    <tr>\n",
       "      <th>M</th>\n",
       "      <td>38687</td>\n",
       "    </tr>\n",
       "  </tbody>\n",
       "</table>\n",
       "</div>"
      ],
      "text/plain": [
       "   gender\n",
       "F   71840\n",
       "M   38687"
      ]
     },
     "metadata": {},
     "output_type": "display_data"
    }
   ],
   "source": [
    "plt.pie(df['gender'].value_counts(), labels = df.gender.value_counts().index.values,\n",
    "                                autopct = \"%.2f %%\", explode = [0.05, 0])\n",
    "plt.title(\"Appointment distribution by gender\")\n",
    "plt.show()\n",
    "\n",
    "display(pd.DataFrame(df['gender'].value_counts()))"
   ]
  },
  {
   "cell_type": "markdown",
   "id": "0b89b230",
   "metadata": {},
   "source": [
    "From the above analysis we conclude that the better technique will be to calculate the proportions of people who did or did not show up for a given criteria"
   ]
  },
  {
   "cell_type": "code",
   "execution_count": 25,
   "id": "92efc422",
   "metadata": {},
   "outputs": [],
   "source": [
    "\"\"\" Writing a general function which will calculate proportions of people\n",
    "who did and didnt showup for specific columns using groupby and value_count functions \"\"\"\n",
    "\n",
    "def proportional(x) : \n",
    "    table = df.groupby(x)['shownup'].value_counts(normalize = True).mul(100).round(2).unstack(\"shownup\") \n",
    "    return table    \n",
    "        "
   ]
  },
  {
   "cell_type": "code",
   "execution_count": 26,
   "id": "f3186bc9",
   "metadata": {},
   "outputs": [
    {
     "data": {
      "text/html": [
       "<div>\n",
       "<style scoped>\n",
       "    .dataframe tbody tr th:only-of-type {\n",
       "        vertical-align: middle;\n",
       "    }\n",
       "\n",
       "    .dataframe tbody tr th {\n",
       "        vertical-align: top;\n",
       "    }\n",
       "\n",
       "    .dataframe thead th {\n",
       "        text-align: right;\n",
       "    }\n",
       "</style>\n",
       "<table border=\"1\" class=\"dataframe\">\n",
       "  <thead>\n",
       "    <tr style=\"text-align: right;\">\n",
       "      <th>shownup</th>\n",
       "      <th>0</th>\n",
       "      <th>1</th>\n",
       "    </tr>\n",
       "    <tr>\n",
       "      <th>gender</th>\n",
       "      <th></th>\n",
       "      <th></th>\n",
       "    </tr>\n",
       "  </thead>\n",
       "  <tbody>\n",
       "    <tr>\n",
       "      <th>F</th>\n",
       "      <td>20.31%</td>\n",
       "      <td>79.69%</td>\n",
       "    </tr>\n",
       "    <tr>\n",
       "      <th>M</th>\n",
       "      <td>19.97%</td>\n",
       "      <td>80.03%</td>\n",
       "    </tr>\n",
       "  </tbody>\n",
       "</table>\n",
       "</div>"
      ],
      "text/plain": [
       "shownup       0       1\n",
       "gender                 \n",
       "F        20.31%  79.69%\n",
       "M        19.97%  80.03%"
      ]
     },
     "metadata": {},
     "output_type": "display_data"
    },
    {
     "data": {
      "image/png": "[encoded data removed]",
      "text/plain": [
       "<Figure size 648x432 with 1 Axes>"
      ]
     },
     "metadata": {
      "needs_background": "light"
     },
     "output_type": "display_data"
    }
   ],
   "source": [
    "prop_gender = proportional('gender')\n",
    "display(prop_gender.astype(str) + '%')\n",
    "prop_gender.plot(kind = 'bar', color = ['purple', 'violet'], \n",
    "                 rot = 0, figsize = (9,6),edgecolor = 'black' )\n",
    "plt.title(\"Attendence distribution by Gender\")\n",
    "plt.ylabel(\"Attendance %\")\n",
    "plt.xlabel(\"Gender\")\n",
    "plt.xticks(range(0,2),[\"Female\",\"Male\"])\n",
    "\n",
    "plt.savefig(\"plots/prop_gender\", dpi = 200)\n",
    "plt.show()"
   ]
  },
  {
   "cell_type": "markdown",
   "id": "63064b84",
   "metadata": {},
   "source": [
    "#### **Inference**\n",
    "The analysis shows that females usually have more appointments than male patient. the number of females in the dataset is also almost twice that of the male. This explins the trend of females missing higher number of appointments. Females, making up 65 percent of the dataset, also comprise of around 65% of the missed appointments. <br>\n",
    "That means there's no direct correlation between Gender and attendance & both genders have the same commitment to attend the medical appointment !!"
   ]
  },
  {
   "cell_type": "markdown",
   "id": "13dc60e2",
   "metadata": {},
   "source": [
    "### Q2) How the Alcoholism affects probability of showing up?"
   ]
  },
  {
   "cell_type": "markdown",
   "id": "2b529afd",
   "metadata": {},
   "source": [
    "#### Checking the function for alcoholism column"
   ]
  },
  {
   "cell_type": "code",
   "execution_count": 27,
   "id": "4fb36af1",
   "metadata": {},
   "outputs": [
    {
     "data": {
      "text/html": [
       "<div>\n",
       "<style scoped>\n",
       "    .dataframe tbody tr th:only-of-type {\n",
       "        vertical-align: middle;\n",
       "    }\n",
       "\n",
       "    .dataframe tbody tr th {\n",
       "        vertical-align: top;\n",
       "    }\n",
       "\n",
       "    .dataframe thead th {\n",
       "        text-align: right;\n",
       "    }\n",
       "</style>\n",
       "<table border=\"1\" class=\"dataframe\">\n",
       "  <thead>\n",
       "    <tr style=\"text-align: right;\">\n",
       "      <th>shownup</th>\n",
       "      <th>0</th>\n",
       "      <th>1</th>\n",
       "    </tr>\n",
       "    <tr>\n",
       "      <th>alcoholism</th>\n",
       "      <th></th>\n",
       "      <th></th>\n",
       "    </tr>\n",
       "  </thead>\n",
       "  <tbody>\n",
       "    <tr>\n",
       "      <th>0</th>\n",
       "      <td>20.19%</td>\n",
       "      <td>79.81%</td>\n",
       "    </tr>\n",
       "    <tr>\n",
       "      <th>1</th>\n",
       "      <td>20.15%</td>\n",
       "      <td>79.85%</td>\n",
       "    </tr>\n",
       "  </tbody>\n",
       "</table>\n",
       "</div>"
      ],
      "text/plain": [
       "shownup          0       1\n",
       "alcoholism                \n",
       "0           20.19%  79.81%\n",
       "1           20.15%  79.85%"
      ]
     },
     "metadata": {},
     "output_type": "display_data"
    },
    {
     "data": {
      "image/png": "[encoded data removed]",
      "text/plain": [
       "<Figure size 648x432 with 1 Axes>"
      ]
     },
     "metadata": {
      "needs_background": "light"
     },
     "output_type": "display_data"
    }
   ],
   "source": [
    "prop_alcohol = proportional('alcoholism')\n",
    "display(prop_alcohol.astype(str) + '%')\n",
    "prop_alcohol.plot(kind = 'bar', color = ['teal', 'c'], rot = 0, figsize = (9,6))\n",
    "plt.title(\"Attendance on the basis of Alcoholism\")\n",
    "plt.xlabel(\"Alcoholism\")\n",
    "plt.ylabel(\"Attendance %\")\n",
    "labels = [\"Non-alcoholic\", \"Alcoholic\"]\n",
    "plt.xticks(range(len(labels)),labels)\n",
    "\n",
    "plt.savefig(\"plots/prop_alcoholism\", dpi = 200)\n",
    "plt.show()"
   ]
  },
  {
   "cell_type": "markdown",
   "id": "195a7c05",
   "metadata": {},
   "source": [
    "#### Insights\n",
    "\n",
    "From the above visualisation we can conclude the attendance rate  for both alcoholic & not alcoholic patients is quite similar . **79.85%** of all alcoholic patients attended to their appointmets, while **79.81** % of all non - alcoholic patients attended their appointmets.<br> \n",
    "So this means thatboth alcoholic and non-alcoholic patients have same commitment to attend the medical appointments and that there is no direct correlation between alcoholism and attendance"
   ]
  },
  {
   "cell_type": "markdown",
   "id": "e189414d",
   "metadata": {},
   "source": [
    "### Q3 Are patients with scholarships more likely to miss their appointment ?"
   ]
  },
  {
   "cell_type": "code",
   "execution_count": 28,
   "id": "7883d7ce",
   "metadata": {},
   "outputs": [
    {
     "data": {
      "text/plain": [
       "[]"
      ]
     },
     "execution_count": 28,
     "metadata": {},
     "output_type": "execute_result"
    },
    {
     "data": {
      "image/png": "[encoded data removed]",
      "text/plain": [
       "<Figure size 432x288 with 1 Axes>"
      ]
     },
     "metadata": {},
     "output_type": "display_data"
    }
   ],
   "source": [
    "df['scholarship'].value_counts(normalize = True).plot(kind = 'pie',\n",
    "                colors = ['orange' ,'r'], autopct = '%.2f %%',\n",
    "                labels = ['no scholarship', 'scholarship'], explode = [0.05, 0.0])\n",
    "\n",
    "plt.title(\"Percentage of people with scholarship\")\n",
    "plt.ylabel(\"\")\n",
    "plt.plot()"
   ]
  },
  {
   "cell_type": "code",
   "execution_count": 29,
   "id": "0a69cd55",
   "metadata": {},
   "outputs": [
    {
     "data": {
      "text/html": [
       "<div>\n",
       "<style scoped>\n",
       "    .dataframe tbody tr th:only-of-type {\n",
       "        vertical-align: middle;\n",
       "    }\n",
       "\n",
       "    .dataframe tbody tr th {\n",
       "        vertical-align: top;\n",
       "    }\n",
       "\n",
       "    .dataframe thead th {\n",
       "        text-align: right;\n",
       "    }\n",
       "</style>\n",
       "<table border=\"1\" class=\"dataframe\">\n",
       "  <thead>\n",
       "    <tr style=\"text-align: right;\">\n",
       "      <th>shownup</th>\n",
       "      <th>0</th>\n",
       "      <th>1</th>\n",
       "    </tr>\n",
       "    <tr>\n",
       "      <th>scholarship</th>\n",
       "      <th></th>\n",
       "      <th></th>\n",
       "    </tr>\n",
       "  </thead>\n",
       "  <tbody>\n",
       "    <tr>\n",
       "      <th>0</th>\n",
       "      <td>19.81%</td>\n",
       "      <td>80.19%</td>\n",
       "    </tr>\n",
       "    <tr>\n",
       "      <th>1</th>\n",
       "      <td>23.74%</td>\n",
       "      <td>76.26%</td>\n",
       "    </tr>\n",
       "  </tbody>\n",
       "</table>\n",
       "</div>"
      ],
      "text/plain": [
       "shownup           0       1\n",
       "scholarship                \n",
       "0            19.81%  80.19%\n",
       "1            23.74%  76.26%"
      ]
     },
     "metadata": {},
     "output_type": "display_data"
    },
    {
     "data": {
      "image/png": "[encoded data removed]",
      "text/plain": [
       "<Figure size 576x360 with 1 Axes>"
      ]
     },
     "metadata": {
      "needs_background": "light"
     },
     "output_type": "display_data"
    }
   ],
   "source": [
    "prop_scholarship = proportional('scholarship')\n",
    "display(prop_scholarship.astype(str) + '%')\n",
    "prop_scholarship.plot(kind = 'bar', color = ['r', 'orange'], rot = 0, figsize = (8,5))\n",
    "plt.title(\"Attendance on the basis of Scholarship\")\n",
    "plt.xlabel(\"Presence of Scholarship\")\n",
    "plt.ylabel(\"Attendance %\")\n",
    "labels = [\"No-Scholarship\", \"Scholarship\"]\n",
    "plt.xticks(range(len(labels)),labels)\n",
    "\n",
    "plt.savefig(\"plots/prop_scholarship\", dpi = 200)\n",
    "plt.show()"
   ]
  },
  {
   "cell_type": "markdown",
   "id": "97a3ac5f",
   "metadata": {},
   "source": [
    "#### Insights\n",
    "\n",
    "More than 90% of the patients do not have any scholarship. **23.74 %** of people with scholarship did not attend their appointmets, while the same is true for **19.81 %** of the people without scholarship. So, even though higher percentage of people with scholarship seem to miss the appointment, the difference is quite small, and along with the fact that the ratio between people with and without scholarship is skewed, it means that no significant conclusion can be drawn ! So there is no direct correlation between Hypertensive and attendance also."
   ]
  },
  {
   "cell_type": "code",
   "execution_count": 30,
   "id": "0f341c8a",
   "metadata": {},
   "outputs": [
    {
     "data": {
      "text/plain": [
       "Index(['gender', 'scheduledday', 'appointmentday', 'day_diff', 'age',\n",
       "       'neighbourhood', 'scholarship', 'hipertension', 'diabetes',\n",
       "       'alcoholism', 'handcap', 'sms_received', 'shownup'],\n",
       "      dtype='object')"
      ]
     },
     "execution_count": 30,
     "metadata": {},
     "output_type": "execute_result"
    }
   ],
   "source": [
    "df.columns"
   ]
  },
  {
   "cell_type": "markdown",
   "id": "1d4969db",
   "metadata": {},
   "source": [
    "### Q3 How Hipertension effects showing up"
   ]
  },
  {
   "cell_type": "code",
   "execution_count": 31,
   "id": "a8263ac6",
   "metadata": {},
   "outputs": [
    {
     "data": {
      "text/html": [
       "<div>\n",
       "<style scoped>\n",
       "    .dataframe tbody tr th:only-of-type {\n",
       "        vertical-align: middle;\n",
       "    }\n",
       "\n",
       "    .dataframe tbody tr th {\n",
       "        vertical-align: top;\n",
       "    }\n",
       "\n",
       "    .dataframe thead th {\n",
       "        text-align: right;\n",
       "    }\n",
       "</style>\n",
       "<table border=\"1\" class=\"dataframe\">\n",
       "  <thead>\n",
       "    <tr style=\"text-align: right;\">\n",
       "      <th>shownup</th>\n",
       "      <th>0</th>\n",
       "      <th>1</th>\n",
       "    </tr>\n",
       "    <tr>\n",
       "      <th>hipertension</th>\n",
       "      <th></th>\n",
       "      <th></th>\n",
       "    </tr>\n",
       "  </thead>\n",
       "  <tbody>\n",
       "    <tr>\n",
       "      <th>0</th>\n",
       "      <td>20.9%</td>\n",
       "      <td>79.1%</td>\n",
       "    </tr>\n",
       "    <tr>\n",
       "      <th>1</th>\n",
       "      <td>17.3%</td>\n",
       "      <td>82.7%</td>\n",
       "    </tr>\n",
       "  </tbody>\n",
       "</table>\n",
       "</div>"
      ],
      "text/plain": [
       "shownup           0      1\n",
       "hipertension              \n",
       "0             20.9%  79.1%\n",
       "1             17.3%  82.7%"
      ]
     },
     "metadata": {},
     "output_type": "display_data"
    },
    {
     "data": {
      "image/png": "[encoded data removed]",
      "text/plain": [
       "<Figure size 576x360 with 1 Axes>"
      ]
     },
     "metadata": {
      "needs_background": "light"
     },
     "output_type": "display_data"
    }
   ],
   "source": [
    "prop_hipertension = proportional('hipertension')\n",
    "display(prop_hipertension.astype(str) + '%')\n",
    "prop_hipertension.plot(kind = 'bar', color = ['violet', 'b'], rot = 0, figsize = (8,5))\n",
    "plt.title(\"Attendance on the basis of Hipertension\")\n",
    "plt.xlabel(\"Hipertension distribution\")\n",
    "plt.ylabel(\"Attendance %\")\n",
    "labels = [\"No Hipertension\", \"Hipertension\"]\n",
    "plt.xticks(range(len(labels)),labels)\n",
    "\n",
    "plt.savefig(\"plots/prop_hipertension\", dpi = 200)\n",
    "plt.show()"
   ]
  },
  {
   "cell_type": "markdown",
   "id": "6053e324",
   "metadata": {},
   "source": [
    "#### Insights\n",
    "\n",
    "From above visualisation we can conclude the attendance rate is very similar for both patients who do and don't have Hipertension. They have the same commitment to attend the medical appointment.\n",
    "Percentage of patients who has Hipertension and attended is **82.69%** of patients with hipertension have attended their appointments while  **79.09%** of the patients whithout hipertension did. So, there is no direct correlation between Hypertensive and attendance also."
   ]
  },
  {
   "cell_type": "markdown",
   "id": "2deebed8",
   "metadata": {},
   "source": [
    "### Are patients who don't receive SMS more likely to miss their appointment?"
   ]
  },
  {
   "cell_type": "code",
   "execution_count": 32,
   "id": "c1c53197",
   "metadata": {},
   "outputs": [
    {
     "data": {
      "text/html": [
       "<div>\n",
       "<style scoped>\n",
       "    .dataframe tbody tr th:only-of-type {\n",
       "        vertical-align: middle;\n",
       "    }\n",
       "\n",
       "    .dataframe tbody tr th {\n",
       "        vertical-align: top;\n",
       "    }\n",
       "\n",
       "    .dataframe thead th {\n",
       "        text-align: right;\n",
       "    }\n",
       "</style>\n",
       "<table border=\"1\" class=\"dataframe\">\n",
       "  <thead>\n",
       "    <tr style=\"text-align: right;\">\n",
       "      <th>shownup</th>\n",
       "      <th>0</th>\n",
       "      <th>1</th>\n",
       "    </tr>\n",
       "    <tr>\n",
       "      <th>sms_received</th>\n",
       "      <th></th>\n",
       "      <th></th>\n",
       "    </tr>\n",
       "  </thead>\n",
       "  <tbody>\n",
       "    <tr>\n",
       "      <th>0</th>\n",
       "      <td>16.7%</td>\n",
       "      <td>83.3%</td>\n",
       "    </tr>\n",
       "    <tr>\n",
       "      <th>1</th>\n",
       "      <td>27.57%</td>\n",
       "      <td>72.43%</td>\n",
       "    </tr>\n",
       "  </tbody>\n",
       "</table>\n",
       "</div>"
      ],
      "text/plain": [
       "shownup            0       1\n",
       "sms_received                \n",
       "0              16.7%   83.3%\n",
       "1             27.57%  72.43%"
      ]
     },
     "metadata": {},
     "output_type": "display_data"
    },
    {
     "data": {
      "image/png": "[encoded data removed]",
      "text/plain": [
       "<Figure size 576x360 with 1 Axes>"
      ]
     },
     "metadata": {
      "needs_background": "light"
     },
     "output_type": "display_data"
    }
   ],
   "source": [
    "prop_sms = proportional('sms_received')\n",
    "display(prop_sms.astype(str) + '%')\n",
    "prop_hipertension.plot(kind = 'bar', rot = 0, figsize = (8,5))\n",
    "plt.title(\"Attendance on the basis of SMS received\")\n",
    "plt.xlabel(\"SMS received\")\n",
    "plt.ylabel(\"Attendance %\")\n",
    "labels = [\"No SMS received\", \"SMS received\"]\n",
    "plt.xticks(range(len(labels)),labels)\n",
    "\n",
    "plt.savefig(\"plots/prop_sms\", dpi = 200)\n",
    "plt.show()"
   ]
  },
  {
   "cell_type": "markdown",
   "id": "71da6a12",
   "metadata": {},
   "source": [
    "#### Insights\n",
    "\n",
    "**16.70 %** of people who did not receive the sms missed their appointment, while **27.57 %** of people missed their appoinment despite receiving an sms. A strange finding here suggests that patients who received an SMS are more likely to miss their appointment !!\n",
    "This is contrary to the belief, as receiving an sms reminds people of the appointment, therefore, increasing the chances of attending it"
   ]
  },
  {
   "cell_type": "markdown",
   "id": "40384470",
   "metadata": {},
   "source": [
    "### Is the time difference between the scheduling and appointment related to whether a patient will show up ?"
   ]
  },
  {
   "cell_type": "code",
   "execution_count": 33,
   "id": "d4d8975d",
   "metadata": {},
   "outputs": [
    {
     "data": {
      "text/plain": [
       "array([ -6,  -1,   0,   1,   2,   3,   4,   5,   6,   7,   8,   9,  10,\n",
       "        11,  12,  13,  14,  15,  16,  17,  18,  19,  20,  21,  22,  23,\n",
       "        24,  25,  26,  27,  28,  29,  30,  31,  32,  33,  34,  35,  36,\n",
       "        37,  38,  39,  40,  41,  42,  43,  44,  45,  46,  47,  48,  49,\n",
       "        50,  51,  52,  53,  54,  55,  56,  57,  58,  59,  60,  61,  62,\n",
       "        63,  64,  65,  66,  67,  68,  69,  70,  71,  72,  73,  74,  75,\n",
       "        76,  77,  78,  79,  80,  81,  82,  83,  84,  85,  86,  87,  88,\n",
       "        89,  90,  91,  92,  93,  94,  95,  96,  97,  98, 101, 102, 103,\n",
       "       104, 105, 107, 108, 109, 110, 111, 112, 115, 117, 119, 122, 123,\n",
       "       125, 126, 127, 132, 133, 139, 142, 146, 151, 155, 162, 169, 176,\n",
       "       179], dtype=int64)"
      ]
     },
     "execution_count": 33,
     "metadata": {},
     "output_type": "execute_result"
    }
   ],
   "source": [
    "np.sort(df['day_diff'].unique())"
   ]
  },
  {
   "cell_type": "markdown",
   "id": "88eae346",
   "metadata": {},
   "source": [
    "There are more than negative values in the column (-6 and -1) which seems to be a mistake in the data, as it implies the appointment date is before the scheduled date which is not possible.<br>\n",
    "so, creating a new database without wrong data in this column"
   ]
  },
  {
   "cell_type": "code",
   "execution_count": 34,
   "id": "8a21a6ab",
   "metadata": {},
   "outputs": [
    {
     "name": "stdout",
     "output_type": "stream",
     "text": [
      "maximum appointment delay =  179  days\n"
     ]
    },
    {
     "data": {
      "text/plain": [
       "0     38563\n",
       "2      6725\n",
       "4      5290\n",
       "1      5213\n",
       "7      4906\n",
       "6      4037\n",
       "5      3277\n",
       "14     2913\n",
       "3      2737\n",
       "8      2332\n",
       "Name: day_diff, dtype: int64"
      ]
     },
     "execution_count": 34,
     "metadata": {},
     "output_type": "execute_result"
    }
   ],
   "source": [
    "df2 = df[df.day_diff >= 0 ]\n",
    "print(\"maximum appointment delay = \", df2.day_diff.max(), \" days\")\n",
    "df2.day_diff.value_counts().head(10)"
   ]
  },
  {
   "cell_type": "markdown",
   "id": "5b9989df",
   "metadata": {},
   "source": [
    "There is a large percentage of people with 0 days of difference between scheduling and appointment"
   ]
  },
  {
   "cell_type": "code",
   "execution_count": 35,
   "id": "2a49e538",
   "metadata": {},
   "outputs": [
    {
     "data": {
      "text/plain": [
       "[]"
      ]
     },
     "execution_count": 35,
     "metadata": {},
     "output_type": "execute_result"
    },
    {
     "data": {
      "image/png": "[encoded data removed]",
      "text/plain": [
       "<Figure size 576x324 with 1 Axes>"
      ]
     },
     "metadata": {
      "needs_background": "light"
     },
     "output_type": "display_data"
    }
   ],
   "source": [
    "plt.figure(figsize = (8,4.5))\n",
    "sns.histplot(df2.day_diff, bins = 20)\n",
    "sns.histplot(df2[df2['shownup'] == 0].day_diff, bins = 20 , color = 'red')\n",
    "plt.title('Distribution of wait period in days' )\n",
    "plt.xlabel(\"days\")\n",
    "\n",
    "plt.savefig(\"plots/waitdayhist\", dpi = 200)\n",
    "plt.plot()"
   ]
  },
  {
   "cell_type": "code",
   "execution_count": null,
   "id": "1b8ded1c",
   "metadata": {},
   "outputs": [],
   "source": []
  },
  {
   "cell_type": "code",
   "execution_count": 36,
   "id": "858d4102",
   "metadata": {},
   "outputs": [],
   "source": [
    "bin_edges=[-1,0,7,14,31,df.day_diff.max()]\n",
    "names=['sameday','a week','two weeks','month','more than a month']\n",
    "df[\"wait_period\"] = pd.cut(df.day_diff,bin_edges,labels=names)"
   ]
  },
  {
   "cell_type": "code",
   "execution_count": 37,
   "id": "8ec48fe0",
   "metadata": {},
   "outputs": [
    {
     "data": {
      "text/html": [
       "<div>\n",
       "<style scoped>\n",
       "    .dataframe tbody tr th:only-of-type {\n",
       "        vertical-align: middle;\n",
       "    }\n",
       "\n",
       "    .dataframe tbody tr th {\n",
       "        vertical-align: top;\n",
       "    }\n",
       "\n",
       "    .dataframe thead th {\n",
       "        text-align: right;\n",
       "    }\n",
       "</style>\n",
       "<table border=\"1\" class=\"dataframe\">\n",
       "  <thead>\n",
       "    <tr style=\"text-align: right;\">\n",
       "      <th>shownup</th>\n",
       "      <th>0</th>\n",
       "      <th>1</th>\n",
       "    </tr>\n",
       "    <tr>\n",
       "      <th>wait_period</th>\n",
       "      <th></th>\n",
       "      <th></th>\n",
       "    </tr>\n",
       "  </thead>\n",
       "  <tbody>\n",
       "    <tr>\n",
       "      <th>sameday</th>\n",
       "      <td>4.65%</td>\n",
       "      <td>95.35%</td>\n",
       "    </tr>\n",
       "    <tr>\n",
       "      <th>a week</th>\n",
       "      <td>24.15%</td>\n",
       "      <td>75.85%</td>\n",
       "    </tr>\n",
       "    <tr>\n",
       "      <th>two weeks</th>\n",
       "      <td>30.47%</td>\n",
       "      <td>69.53%</td>\n",
       "    </tr>\n",
       "    <tr>\n",
       "      <th>month</th>\n",
       "      <td>32.59%</td>\n",
       "      <td>67.41%</td>\n",
       "    </tr>\n",
       "    <tr>\n",
       "      <th>more than a month</th>\n",
       "      <td>33.02%</td>\n",
       "      <td>66.98%</td>\n",
       "    </tr>\n",
       "  </tbody>\n",
       "</table>\n",
       "</div>"
      ],
      "text/plain": [
       "shownup                 0       1\n",
       "wait_period                      \n",
       "sameday             4.65%  95.35%\n",
       "a week             24.15%  75.85%\n",
       "two weeks          30.47%  69.53%\n",
       "month              32.59%  67.41%\n",
       "more than a month  33.02%  66.98%"
      ]
     },
     "metadata": {},
     "output_type": "display_data"
    },
    {
     "data": {
      "image/png": "[encoded data removed]",
      "text/plain": [
       "<Figure size 648x432 with 1 Axes>"
      ]
     },
     "metadata": {
      "needs_background": "light"
     },
     "output_type": "display_data"
    }
   ],
   "source": [
    "prop_waitday = proportional('wait_period')\n",
    "display(prop_waitday.astype(str) + '%')\n",
    "prop_waitday.plot(kind = 'bar', color = ['b', 'c'], rot = 0, figsize = (9,6))\n",
    "plt.title(\"Effect of waiting period on Showing up\")\n",
    "plt.xlabel(\"Waiting period --->\")\n",
    "plt.ylabel(\"Attendance %\")\n",
    "plt.xticks(range(len(names)),names)\n",
    "\n",
    "plt.savefig(\"plots/prop_wait_period\" , dpi = 200)\n",
    "plt.show()"
   ]
  },
  {
   "cell_type": "code",
   "execution_count": 38,
   "id": "0034f82c",
   "metadata": {},
   "outputs": [
    {
     "data": {
      "image/png": "[encoded data removed]",
      "text/plain": [
       "<Figure size 432x288 with 1 Axes>"
      ]
     },
     "metadata": {
      "needs_background": "light"
     },
     "output_type": "display_data"
    }
   ],
   "source": [
    "prop_waitday.plot(kind = 'line', linewidth = 4, color = ['b', 'c'])\n",
    "plt.title(\"Effect of waiting period on Showing up\")\n",
    "plt.xlabel(\"Waiting period --->\")\n",
    "plt.ylabel(\"Attendance %\")\n",
    "plt.xticks(range(len(names)),names)\n",
    "plt.show()"
   ]
  },
  {
   "cell_type": "markdown",
   "id": "c02a8a09",
   "metadata": {},
   "source": [
    "#### Insights\n",
    "\n",
    "The above visualization indicates an important trend ! As the waiting period for the appointment date increases, the percentage of patients not showing up for their appointments also increases ! For appointment on the same day as that of scheduling it **95.35 %** of the patients show up for their appointments, as opposed to a break of a week, when the attendance reduces to **69.53 %**. After a waiting period of more than a month, the attendance furthur decreases to **66.98 %**. <br>\n",
    "Therefore it appears that the longer the period between the scheduling and appointment the more likely the patient won't show up."
   ]
  },
  {
   "cell_type": "markdown",
   "id": "a0ca616c",
   "metadata": {},
   "source": [
    "## Conclusions\n",
    "\n",
    "* 79.81 % from all patients attend and 20.19 % didnt attend their appoinments\n",
    "\n",
    "* Females make up about 2/3 of the total appointments\n",
    "\n",
    "* Gender has no direct correlation with attendance.\n",
    "\n",
    "* Alcoholism has no direct correlation with attendance.\n",
    "\n",
    "* Hypertension has no direct correlation with attendance.\n",
    "\n",
    "* Scholarship has no direct correlation with attendance\n",
    "\n",
    "* The attendance rate for patient who have not recieved SMS is higher (This result is unexpected)    \n",
    "\n",
    "* Appointment delay also can affect the attendance rate. the longer the period between the scheduling and appointment the more likely the patient won't show up..this factor is very important and can help us alot to make better prediction"
   ]
  },
  {
   "cell_type": "markdown",
   "id": "409c2e8c",
   "metadata": {},
   "source": [
    "## Analysis Shortcoming & Data Limitations\n",
    "* The data doesn't state the exact hour of the appointment which would have been very useful to try to find out which hours have the most missing appointments and which doesn't. It could also be very useful to know the difference between scheduling and the appointment since many of the scheduling are on the same day.\n",
    "* The data doesn't state if any day is a vacation or not which can indicate if people tend to miss their appointments more on working days.\n",
    "* The age column had a negative value but according to the data creator, it means a baby not born yet (a pregnant woman).\n",
    "* When calculating the day difference between the scheduling and appointment days we had some negative value which makes no sense and might mean that the records of questions have wrong data."
   ]
  },
  {
   "cell_type": "code",
   "execution_count": null,
   "id": "1c02ab57",
   "metadata": {},
   "outputs": [],
   "source": []
  }
 ],
 "metadata": {
  "kernelspec": {
   "display_name": "Python 3 (ipykernel)",
   "language": "python",
   "name": "python3"
  },
  "language_info": {
   "codemirror_mode": {
    "name": "ipython",
    "version": 3
   },
   "file_extension": ".py",
   "mimetype": "text/x-python",
   "name": "python",
   "nbconvert_exporter": "python",
   "pygments_lexer": "ipython3",
   "version": "3.9.6"
  }
 },
 "nbformat": 4,
 "nbformat_minor": 5
}
